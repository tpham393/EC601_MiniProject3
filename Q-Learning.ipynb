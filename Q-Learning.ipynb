{
 "cells": [
  {
   "cell_type": "code",
   "execution_count": 6,
   "metadata": {},
   "outputs": [
    {
     "name": "stdout",
     "output_type": "stream",
     "text": [
      "+---------+\n",
      "|R: | : :\u001b[34;1mG\u001b[0m|\n",
      "| : | : : |\n",
      "| :\u001b[43m \u001b[0m: : : |\n",
      "| | : | : |\n",
      "|\u001b[35mY\u001b[0m| : |B: |\n",
      "+---------+\n",
      "\n"
     ]
    }
   ],
   "source": [
    "import gym\n",
    "import sys\n",
    "import numpy as np\n",
    "import random\n",
    "\n",
    "taxi_env = gym.make(\"Taxi-v3\").env\n",
    "\n",
    "taxi_env.render()"
   ]
  },
  {
   "cell_type": "code",
   "execution_count": 11,
   "metadata": {},
   "outputs": [],
   "source": [
    "def q_learning(env, gamma=0.9, alpha=0.9, epsilon=0.1, episodes=5):\n",
    "    '''\n",
    "    Q-Learning Algorithm\n",
    "\n",
    "    Inputs:\n",
    "        env: game environment, i.e. taxi_env\n",
    "        gamma: Discount rate for future rewards.\n",
    "        alpha: Learning rate. \"How much you accept the new value vs the old value,\" i.e. how much weight will you assign\n",
    "            to the old vs new value of Q.\n",
    "        epsilon: Used to control balance of exploration (choose a random action) vs exploitation, i.e. we pick a value at\n",
    "            random in the range (0,1) and if this value < epsilon, we will choose a random action. Else, we pick the action\n",
    "            that maximizes Q (based on current knowledge of Q).\n",
    "        episodes: Number of epochs to run.\n",
    "\n",
    "    Helper Methods:\n",
    "        extract_policy: Returns the optimal policy for a given value function. It is run once at the end of the algorithm\n",
    "                        after the optimal Q (value function) has been estimated.\n",
    "\n",
    "    Outputs:\n",
    "        A tuple (policy, Q, steps) of the policy extracted from the estimated Q function, the approximated optimal value \n",
    "        function, and the number of steps the algorithm took to converge.\n",
    "    '''\n",
    "    \n",
    "    def extract_policy(Q):\n",
    "        policy = np.zeros([env.nS, env.nA])\n",
    "        \n",
    "        for s in range(env.nS):\n",
    "            best_action = np.argmax(Q[s, :]) # returns index of action that has maximum V\n",
    "            policy[s, best_action] = 1 # deterministic optimal policy, i.e. always take best_action for given state\n",
    "        \n",
    "        return policy\n",
    "    \n",
    "    # initialize Q(s,a) matrix to all zeros\n",
    "    Q = np.zeros([env.nS, env.nA])\n",
    "    steps = 0\n",
    "    \n",
    "    for t in range(episodes):\n",
    "        #print('Episode #', t)\n",
    "        converged = False\n",
    "        \n",
    "         # select random state\n",
    "        state = env.reset()\n",
    "        done = False\n",
    "        \n",
    "        # run inner loop for each episode until a terminal state has been reached\n",
    "        while not done:\n",
    "            #print('Q learning, step ', steps, '...')\n",
    "            \n",
    "            # select action\n",
    "            if random.uniform(0, 1) < epsilon:\n",
    "                action = env.action_space.sample() # exploration\n",
    "            else:\n",
    "                action = np.argmax(Q[state, :]) # exploitation\n",
    "            \n",
    "            next_state, reward, done, info = env.step(action)\n",
    "\n",
    "            # in next state, select action with highest Q-value\n",
    "            max_next_action_value = np.max(Q[next_state, :])\n",
    "\n",
    "            # update Q-values tables with equation\n",
    "            Q[state][action] = ((1-alpha)*Q[state][action]) + (alpha*(reward + (gamma * max_next_action_value)))\n",
    "\n",
    "            # set next state as current state & repeat\n",
    "            state = next_state \n",
    "            steps += 1\n",
    "\n",
    "    # extract optimal policy after calculating optimal V\n",
    "    policy = extract_policy(Q)\n",
    "\n",
    "    return policy, Q, steps"
   ]
  },
  {
   "cell_type": "code",
   "execution_count": 52,
   "metadata": {},
   "outputs": [
    {
     "name": "stdout",
     "output_type": "stream",
     "text": [
      "Num episodes:  500\n",
      "[[1. 0. 0. 0. 0. 0.]\n",
      " [0. 0. 0. 0. 1. 0.]\n",
      " [0. 0. 0. 0. 1. 0.]\n",
      " ...\n",
      " [0. 1. 0. 0. 0. 0.]\n",
      " [0. 0. 0. 1. 0. 0.]\n",
      " [0. 0. 0. 1. 0. 0.]]\n",
      "Steps:  24782\n",
      "Average steps per episode:  49.564\n",
      "------------------------------------------\n",
      "Num episodes:  5000\n",
      "[[1. 0. 0. 0. 0. 0.]\n",
      " [0. 0. 0. 0. 1. 0.]\n",
      " [0. 0. 0. 0. 1. 0.]\n",
      " ...\n",
      " [0. 1. 0. 0. 0. 0.]\n",
      " [0. 0. 0. 1. 0. 0.]\n",
      " [0. 0. 0. 1. 0. 0.]]\n",
      "Steps:  91162\n",
      "Average steps per episode:  18.2324\n"
     ]
    }
   ],
   "source": [
    "eps = 500\n",
    "print('Num episodes: ', eps)\n",
    "policy, Q, steps = q_learning(env=taxi_env, episodes=eps)\n",
    "print(policy)\n",
    "print('Steps: ', steps)\n",
    "print('Average steps per episode: ', steps/eps)\n",
    "\n",
    "print('------------------------------------------')\n",
    "eps = 5000\n",
    "print('Num episodes: ', eps)\n",
    "policy2, Q2, steps2 = q_learning(env=taxi_env, episodes=eps)\n",
    "print(policy2)\n",
    "print('Steps: ', steps2)\n",
    "print('Average steps per episode: ', steps2/eps)"
   ]
  },
  {
   "cell_type": "code",
   "execution_count": 53,
   "metadata": {},
   "outputs": [],
   "source": [
    "from IPython.display import clear_output\n",
    "from time import sleep\n",
    "\n",
    "# run the game once under the current policy\n",
    "# and animate game output\n",
    "def run_episode(policy):\n",
    "    gamma = 0.9\n",
    "    init_state = taxi_env.reset() # initialize the environment to a random state\n",
    "    #taxi_env.render()\n",
    "    total_reward = 0\n",
    "    penalties = 0\n",
    "    step = 0\n",
    "    frames = [] # for rendering animation of output\n",
    "    done = False\n",
    "\n",
    "    while not done:\n",
    "        #print('init ', init_state)\n",
    "        action = policy[init_state].tolist().index(1)\n",
    "        #print(action)\n",
    "        next_state, reward, done, info = taxi_env.step(action) # move to the next state\n",
    "        #print('next ', next_state)\n",
    "        \n",
    "        if reward == -10:\n",
    "            penalties += 1\n",
    "\n",
    "        total_reward += (gamma ** step * reward)\n",
    "        step += 1\n",
    "\n",
    "        frames.append(taxi_env.render(mode='ansi'))\n",
    "        init_state = next_state\n",
    "        #print('init now ', init_state)\n",
    "\n",
    "    #print('Total reward: ', total_reward)\n",
    "    for i in range(len(frames)):\n",
    "        clear_output(wait=True)\n",
    "        print(frames[i])\n",
    "        sleep(.1)\n",
    "        \n",
    "    return total_reward, penalties"
   ]
  },
  {
   "cell_type": "code",
   "execution_count": 50,
   "metadata": {},
   "outputs": [
    {
     "name": "stdout",
     "output_type": "stream",
     "text": [
      "+---------+\n",
      "|R: | : :\u001b[34;1mG\u001b[0m|\n",
      "| : |\u001b[43m \u001b[0m: : |\n",
      "| : : : : |\n",
      "| | : | : |\n",
      "|Y| : |\u001b[35mB\u001b[0m: |\n",
      "+---------+\n",
      "\n",
      "+---------+\n",
      "|R: |\u001b[43m \u001b[0m: :\u001b[34;1mG\u001b[0m|\n",
      "| : | : : |\n",
      "| : : : : |\n",
      "| | : | : |\n",
      "|Y| : |\u001b[35mB\u001b[0m: |\n",
      "+---------+\n",
      "  (North)\n"
     ]
    }
   ],
   "source": [
    "# Testing\n",
    "taxi_env.reset()\n",
    "taxi_env.render()\n",
    "taxi_env.step(1)\n",
    "taxi_env.render()"
   ]
  },
  {
   "cell_type": "code",
   "execution_count": 54,
   "metadata": {},
   "outputs": [
    {
     "name": "stdout",
     "output_type": "stream",
     "text": [
      "+---------+\n",
      "|\u001b[35m\u001b[34;1m\u001b[43mR\u001b[0m\u001b[0m\u001b[0m: | : :G|\n",
      "| : | : : |\n",
      "| : : : : |\n",
      "| | : | : |\n",
      "|Y| : |B: |\n",
      "+---------+\n",
      "  (Dropoff)\n",
      "\n"
     ]
    },
    {
     "data": {
      "text/plain": [
       "(-3.1369622635116983, 0)"
      ]
     },
     "execution_count": 54,
     "metadata": {},
     "output_type": "execute_result"
    }
   ],
   "source": [
    "run_episode(policy2)"
   ]
  },
  {
   "cell_type": "code",
   "execution_count": 55,
   "metadata": {},
   "outputs": [
    {
     "name": "stdout",
     "output_type": "stream",
     "text": [
      "+---------+\n",
      "|R: | : :G|\n",
      "| : | : : |\n",
      "| : : : : |\n",
      "| | : | : |\n",
      "|\u001b[35m\u001b[34;1m\u001b[43mY\u001b[0m\u001b[0m\u001b[0m| : |B: |\n",
      "+---------+\n",
      "  (Dropoff)\n",
      "\n",
      "Avg total reward:  -1.6419685837389388\n",
      "Avg # penalties:  0.0\n"
     ]
    }
   ],
   "source": [
    "# run for 5 simulations and calculate average metrics\n",
    "\n",
    "all_rewards = []\n",
    "all_penalties = []\n",
    "\n",
    "for t in range(5):\n",
    "    print('Simulation # ', t)\n",
    "    total_reward, penalties = run_episode(policy)\n",
    "    all_rewards.append(total_reward)\n",
    "    all_penalties.append(penalties)\n",
    "\n",
    "print('Avg total reward: ', np.mean(all_rewards))\n",
    "print('Avg # penalties: ', np.mean(all_penalties))"
   ]
  },
  {
   "cell_type": "code",
   "execution_count": 56,
   "metadata": {},
   "outputs": [
    {
     "name": "stdout",
     "output_type": "stream",
     "text": [
      "+---------+\n",
      "|R: | : :G|\n",
      "| : | : : |\n",
      "| : : : : |\n",
      "| | : | : |\n",
      "|Y| : |\u001b[35m\u001b[34;1m\u001b[43mB\u001b[0m\u001b[0m\u001b[0m: |\n",
      "+---------+\n",
      "  (Dropoff)\n",
      "\n",
      "Avg total reward:  -1.9997126632815387\n",
      "Avg # penalties:  0.0\n"
     ]
    }
   ],
   "source": [
    "# run for 5 simulations and calculate average metrics\n",
    "\n",
    "all_rewards = []\n",
    "all_penalties = []\n",
    "\n",
    "for t in range(5):\n",
    "    print('Simulation # ', t)\n",
    "    total_reward, penalties = run_episode(policy2)\n",
    "    all_rewards.append(total_reward)\n",
    "    all_penalties.append(penalties)\n",
    "\n",
    "print('Avg total reward: ', np.mean(all_rewards))\n",
    "print('Avg # penalties: ', np.mean(all_penalties))"
   ]
  },
  {
   "cell_type": "code",
   "execution_count": null,
   "metadata": {},
   "outputs": [],
   "source": []
  }
 ],
 "metadata": {
  "kernelspec": {
   "display_name": "Python 3",
   "language": "python",
   "name": "python3"
  },
  "language_info": {
   "codemirror_mode": {
    "name": "ipython",
    "version": 3
   },
   "file_extension": ".py",
   "mimetype": "text/x-python",
   "name": "python",
   "nbconvert_exporter": "python",
   "pygments_lexer": "ipython3",
   "version": "3.7.4"
  }
 },
 "nbformat": 4,
 "nbformat_minor": 2
}
