{
 "cells": [
  {
   "cell_type": "code",
   "execution_count": 2,
   "metadata": {},
   "outputs": [
    {
     "name": "stdout",
     "output_type": "stream",
     "text": [
      "+---------+\n",
      "|\u001b[35mR\u001b[0m: | : :\u001b[34;1mG\u001b[0m|\n",
      "| : | : : |\n",
      "| : : : : |\n",
      "| | : | : |\n",
      "|Y| : |\u001b[43mB\u001b[0m: |\n",
      "+---------+\n",
      "\n"
     ]
    }
   ],
   "source": [
    "import gym\n",
    "import sys\n",
    "import numpy as np\n",
    "\n",
    "taxi_env = gym.make(\"Taxi-v3\").env\n",
    "\n",
    "taxi_env.render()"
   ]
  },
  {
   "cell_type": "code",
   "execution_count": 3,
   "metadata": {},
   "outputs": [],
   "source": [
    "def value_iteration(env, gamma=0.9, theta=1e-5):\n",
    "    '''\n",
    "    Value Iteration Algorithm\n",
    "\n",
    "    Inputs:\n",
    "        env: environment, i.e. openai gym taxicab game\n",
    "        gamma: Discount rate for future rewards.\n",
    "        theta: Stopping criterion value. When change in Value function is less than theta for every state, stop.\n",
    "\n",
    "    Helper Methods:\n",
    "        calculate_action_values: Calculates the values for all actions for a given state.\n",
    "                                Returns a vector action_values of length num_actions, where \n",
    "                                action_values[a] = expected value of action a.\n",
    "                                The expected value is calculated according to the Bellman equation:\n",
    "                                V(s) = P(s'|s,a) * ( R(s,a) + (gamma * V(s')) )\n",
    "        extract_policy: Returns the optimal policy for a given value function. It is run once at the end of the algorithm\n",
    "                        after the optimal V (value function) has been calculated.\n",
    "\n",
    "    Outputs:\n",
    "        A tuple (policy, V, steps) of the optimal policy, the approximated optimal value function, and the number of steps\n",
    "        the algorithm took to converge.\n",
    "    '''\n",
    "    \n",
    "    def calculate_action_values(current_state, V):\n",
    "        action_values = np.zeros(env.nA)\n",
    "        for a in range(env.nA):\n",
    "            for prob, next_state, reward, done in env.P[current_state][a]:\n",
    "                action_values[a] += prob * (reward + (gamma * V[next_state]))\n",
    "        return action_values\n",
    "    \n",
    "    def extract_policy(V):\n",
    "        policy = np.zeros([env.nS, env.nA])\n",
    "        \n",
    "        for s in range(env.nS):\n",
    "            action_values = calculate_action_values(s, V)\n",
    "            best_action = np.argmax(action_values) # returns index of action that has maximum V\n",
    "            policy[s, best_action] = 1 # deterministic optimal policy, i.e. always take best_action for given state\n",
    "        \n",
    "        return policy\n",
    "    \n",
    "    V = np.zeros(env.nS) # arbitrarily initialize vector V to be all zeros\n",
    "    converged = False\n",
    "    steps = 0\n",
    "    \n",
    "    # iteratively calculate optimal V\n",
    "    while not converged:\n",
    "        #print('Value iteration, step ', steps, '...')\n",
    "        delta = 0\n",
    "        for s in range(env.nS):\n",
    "            action_values = calculate_action_values(s, V)\n",
    "            max_action_value = np.max(action_values)\n",
    "            delta = max( delta, np.abs(max_action_value - V[s]) ) # the maximum difference between V'(s) and V(s) for all s\n",
    "            V[s] = max_action_value        \n",
    "        \n",
    "        steps += 1\n",
    "        \n",
    "        #print('Delta: ', delta)\n",
    "        converged = (delta < theta)\n",
    "        #print(converged)\n",
    "    \n",
    "    # extract optimal policy after calculating optimal V\n",
    "    policy = extract_policy(V)\n",
    "    \n",
    "    return policy, V, steps"
   ]
  },
  {
   "cell_type": "code",
   "execution_count": 4,
   "metadata": {},
   "outputs": [],
   "source": [
    "policy, V, steps = value_iteration(env=taxi_env)"
   ]
  },
  {
   "cell_type": "code",
   "execution_count": 34,
   "metadata": {},
   "outputs": [
    {
     "name": "stdout",
     "output_type": "stream",
     "text": [
      "[[0. 0. 0. 0. 1. 0.]\n",
      " [0. 0. 0. 0. 1. 0.]\n",
      " [0. 0. 0. 0. 1. 0.]\n",
      " ...\n",
      " [0. 1. 0. 0. 0. 0.]\n",
      " [0. 1. 0. 0. 0. 0.]\n",
      " [0. 0. 0. 1. 0. 0.]]\n",
      "Steps:  74\n"
     ]
    }
   ],
   "source": [
    "print(policy)\n",
    "print('Steps: ', steps)"
   ]
  },
  {
   "cell_type": "code",
   "execution_count": 38,
   "metadata": {},
   "outputs": [],
   "source": [
    "from IPython.display import clear_output\n",
    "from time import sleep\n",
    "\n",
    "# run the game once under the current policy\n",
    "# and animate game output\n",
    "def run_episode():\n",
    "    gamma = 0.9\n",
    "    state = taxi_env.reset() # initialize the environment to a random state\n",
    "    #taxi_env.render()\n",
    "    total_reward = 0\n",
    "    penalties = 0\n",
    "    step = 0\n",
    "    frames = [] # for rendering animation of output\n",
    "    done = False\n",
    "\n",
    "    while not done:\n",
    "        action = policy[state].tolist().index(1)\n",
    "        state, reward, done, info = taxi_env.step(action) # move to the next state\n",
    "\n",
    "        if reward == -10:\n",
    "            penalties += 1\n",
    "\n",
    "        total_reward += (gamma ** step * reward)\n",
    "        step += 1\n",
    "\n",
    "        frames.append(taxi_env.render(mode='ansi'))\n",
    "\n",
    "    #print('Total reward: ', total_reward)\n",
    "    for i in range(len(frames)):\n",
    "        clear_output(wait=True)\n",
    "        print(frames[i])\n",
    "        sleep(.1)\n",
    "        \n",
    "    return total_reward, penalties"
   ]
  },
  {
   "cell_type": "code",
   "execution_count": 39,
   "metadata": {},
   "outputs": [
    {
     "name": "stdout",
     "output_type": "stream",
     "text": [
      "+---------+\n",
      "|\u001b[35m\u001b[34;1m\u001b[43mR\u001b[0m\u001b[0m\u001b[0m: | : :G|\n",
      "| : | : : |\n",
      "| : : : : |\n",
      "| | : | : |\n",
      "|Y| : |B: |\n",
      "+---------+\n",
      "  (Dropoff)\n",
      "\n"
     ]
    },
    {
     "data": {
      "text/plain": [
       "(-3.1369622635116983, 0)"
      ]
     },
     "execution_count": 39,
     "metadata": {},
     "output_type": "execute_result"
    }
   ],
   "source": [
    "run_episode()"
   ]
  },
  {
   "cell_type": "code",
   "execution_count": 41,
   "metadata": {},
   "outputs": [
    {
     "name": "stdout",
     "output_type": "stream",
     "text": [
      "+---------+\n",
      "|R: | : :\u001b[35m\u001b[34;1m\u001b[43mG\u001b[0m\u001b[0m\u001b[0m|\n",
      "| : | : : |\n",
      "| : : : : |\n",
      "| | : | : |\n",
      "|Y| : |B: |\n",
      "+---------+\n",
      "  (Dropoff)\n",
      "\n",
      "Avg total reward:  -0.8601362155944445\n",
      "Avg # penalties:  0.0\n"
     ]
    }
   ],
   "source": [
    "# run for 5 simulations and calculate average metrics\n",
    "\n",
    "all_rewards = []\n",
    "all_penalties = []\n",
    "\n",
    "for t in range(5):\n",
    "    print('Simulation # ', t)\n",
    "    total_reward, penalties = run_episode()\n",
    "    all_rewards.append(total_reward)\n",
    "    all_penalties.append(penalties)\n",
    "\n",
    "print('Avg total reward: ', np.mean(all_rewards))\n",
    "print('Avg # penalties: ', np.mean(all_penalties))\n",
    "    "
   ]
  }
 ],
 "metadata": {
  "kernelspec": {
   "display_name": "Python 3",
   "language": "python",
   "name": "python3"
  },
  "language_info": {
   "codemirror_mode": {
    "name": "ipython",
    "version": 3
   },
   "file_extension": ".py",
   "mimetype": "text/x-python",
   "name": "python",
   "nbconvert_exporter": "python",
   "pygments_lexer": "ipython3",
   "version": "3.7.4"
  }
 },
 "nbformat": 4,
 "nbformat_minor": 2
}
